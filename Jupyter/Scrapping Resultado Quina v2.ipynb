{
 "cells": [
  {
   "cell_type": "code",
   "execution_count": 9,
   "metadata": {},
   "outputs": [],
   "source": [
    "import json\n",
    "import requests\n",
    "import bs4"
   ]
  },
  {
   "cell_type": "code",
   "execution_count": 10,
   "metadata": {},
   "outputs": [],
   "source": [
    "r = requests.get('http://loterias.caixa.gov.br/wps/portal/loterias/landing/quina/')\n",
    "soup = bs4.BeautifulSoup(r.text, 'html.parser')"
   ]
  },
  {
   "cell_type": "code",
   "execution_count": 11,
   "metadata": {
    "scrolled": true
   },
   "outputs": [],
   "source": [
    "base = soup.find(\"base\")['href']\n",
    "urlBuscarResultado = soup.find(\"input\", {\"id\": \"urlBuscarResultado\", \"type\":\"hidden\"})['value']"
   ]
  },
  {
   "cell_type": "code",
   "execution_count": 12,
   "metadata": {},
   "outputs": [],
   "source": [
    "resp = requests.get( base + urlBuscarResultado )\n",
    "resultado = json.loads(resp.text)"
   ]
  },
  {
   "cell_type": "code",
   "execution_count": 13,
   "metadata": {},
   "outputs": [
    {
     "name": "stdout",
     "output_type": "stream",
     "text": [
      "{'proximoConcurso': '5057', 'concursoAnterior': '5056', 'forward': None, 'mensagens': [], 'concurso': 5057, 'data': 1566874800000, 'resultado': '33-31-58-68-59', 'ganhadores': 0, 'ganhadores_quadra': 131, 'ganhadores_terno': 10912, 'qt_ganhador_duque': 291608, 'valor': 0.0, 'valor_quadra': 7560.82, 'valor_terno': 136.49, 'vr_rateio_duque': 2.8, 'no_cidade': 'SÃO PAULO', 'sg_uf': 'SP', 'vrAcumulado': 16973847.45, 'vrAcumuladoEspecial': 22327140.51, 'vrEstimado': 19000000.0, 'dtProximoConcurso': 1566961200000, 'vrArrecadado': 17179345.5, 'observacao': None, 'de_local_sorteio': 'Espaço Loterias Caixa', 'ic_concurso_especial': False, 'resultadoOrdenado': '31-33-58-59-68', 'duque': '0', 'error': False, 'rateioProcessamento': False, 'verificaAcumulado': False, 'sorteioAcumulado': True, 'localSorteio': 'no Espaço Loterias Caixa', 'ganhadoresPorUf': None, 'quinaSaoJoao': False, 'dataStr': '27/08/2019', 'dtProximoConcursoStr': '28/08/2019'}\n"
     ]
    }
   ],
   "source": [
    "print(resultado)"
   ]
  },
  {
   "cell_type": "code",
   "execution_count": 14,
   "metadata": {
    "scrolled": false
   },
   "outputs": [
    {
     "name": "stdout",
     "output_type": "stream",
     "text": [
      "['31', '33', '58', '59', '68']\n"
     ]
    }
   ],
   "source": [
    "print(resultado['resultadoOrdenado'].split('-')) #'_'"
   ]
  }
 ],
 "metadata": {
  "kernelspec": {
   "display_name": "Python 3",
   "language": "python",
   "name": "python3"
  },
  "language_info": {
   "codemirror_mode": {
    "name": "ipython",
    "version": 3
   },
   "file_extension": ".py",
   "mimetype": "text/x-python",
   "name": "python",
   "nbconvert_exporter": "python",
   "pygments_lexer": "ipython3",
   "version": "3.7.0"
  }
 },
 "nbformat": 4,
 "nbformat_minor": 2
}
